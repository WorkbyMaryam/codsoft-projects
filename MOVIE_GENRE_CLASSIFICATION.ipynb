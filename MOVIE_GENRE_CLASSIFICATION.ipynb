{
  "cells": [
    {
      "cell_type": "markdown",
      "metadata": {
        "id": "vxnLoKrbjs75"
      },
      "source": [
        "**Load** **Data**"
      ]
    },
    {
      "cell_type": "code",
      "execution_count": null,
      "metadata": {
        "colab": {
          "base_uri": "https://localhost:8080/"
        },
        "id": "erdVAz9SzmJz",
        "outputId": "60aabebb-aa7c-4ba8-dec1-f0810755a096"
      },
      "outputs": [
        {
          "output_type": "stream",
          "name": "stdout",
          "text": [
            "Train Data    ID                             TITLE     GENRE  \\\n",
            "0   1      Oscar et la dame rose (2009)     drama   \n",
            "1   2                      Cupid (1997)  thriller   \n",
            "2   3  Young, Wild and Wonderful (1980)     adult   \n",
            "3   4             The Secret Sin (1915)     drama   \n",
            "4   5            The Unrecovered (2007)     drama   \n",
            "\n",
            "                                         DESCRIPTION  \n",
            "0  Listening in to a conversation between his doc...  \n",
            "1  A brother and sister with a past incestuous re...  \n",
            "2  As the bus empties the students for their fiel...  \n",
            "3  To help their unemployed father make ends meet...  \n",
            "4  The film's title refers not only to the un-rec...  \n",
            "Test Data    ID                        TITLE  \\\n",
            "0   1         Edgar's Lunch (1998)   \n",
            "1   2     La guerra de papá (1977)   \n",
            "2   3  Off the Beaten Track (2010)   \n",
            "3   4       Meu Amigo Hindu (2015)   \n",
            "4   5            Er nu zhai (1955)   \n",
            "\n",
            "                                         DESCRIPTION  \n",
            "0  L.R. Brane loves his life - his car, his apart...  \n",
            "1  Spain, March 1964: Quico is a very naughty chi...  \n",
            "2  One year in the life of Albin and his family o...  \n",
            "3  His father has died, he hasn't spoken with his...  \n",
            "4  Before he was known internationally as a marti...  \n",
            "Solution    ID                        TITLE        GENRE  \\\n",
            "0   1         Edgar's Lunch (1998)     thriller   \n",
            "1   2     La guerra de papá (1977)       comedy   \n",
            "2   3  Off the Beaten Track (2010)  documentary   \n",
            "3   4       Meu Amigo Hindu (2015)        drama   \n",
            "4   5            Er nu zhai (1955)        drama   \n",
            "\n",
            "                                         DESCRIPTION  \n",
            "0  L.R. Brane loves his life - his car, his apart...  \n",
            "1  Spain, March 1964: Quico is a very naughty chi...  \n",
            "2  One year in the life of Albin and his family o...  \n",
            "3  His father has died, he hasn't spoken with his...  \n",
            "4  Before he was known internationally as a marti...  \n"
          ]
        }
      ],
      "source": [
        "import pandas as pd\n",
        "\n",
        "train_data = pd.read_csv('/content/train_data.txt', sep=' ::: ', engine='python', header=None, names=['ID', 'TITLE', 'GENRE', 'DESCRIPTION'])\n",
        "test_data = pd.read_csv('/content/test_data.txt', sep=' ::: ', engine='python', header=None, names=['ID', 'TITLE', 'DESCRIPTION'])\n",
        "test_data_solution = pd.read_csv('/content/test_data_solution.txt', sep=' ::: ', engine='python', header=None, names=['ID', 'TITLE', 'GENRE', 'DESCRIPTION'])\n",
        "\n",
        "print('Train Data',train_data.head())\n",
        "\n",
        "print('Test Data',test_data.head())\n",
        "\n",
        "print('Solution',test_data_solution.head())"
      ]
    },
    {
      "cell_type": "markdown",
      "metadata": {
        "id": "zwvP1sOkj01k"
      },
      "source": [
        "**Preprocess**"
      ]
    },
    {
      "cell_type": "code",
      "execution_count": null,
      "metadata": {
        "colab": {
          "base_uri": "https://localhost:8080/"
        },
        "id": "ol52tAIIwchC",
        "outputId": "db9617c5-4f02-4224-c47e-4df6c0802233"
      },
      "outputs": [
        {
          "output_type": "stream",
          "name": "stderr",
          "text": [
            "[nltk_data] Downloading package punkt to /root/nltk_data...\n",
            "[nltk_data]   Unzipping tokenizers/punkt.zip.\n",
            "[nltk_data] Downloading package stopwords to /root/nltk_data...\n",
            "[nltk_data]   Unzipping corpora/stopwords.zip.\n"
          ]
        },
        {
          "output_type": "stream",
          "name": "stdout",
          "text": [
            "   ID                             TITLE     GENRE  \\\n",
            "0   1      Oscar et la dame rose (2009)     drama   \n",
            "1   2                      Cupid (1997)  thriller   \n",
            "2   3  Young, Wild and Wonderful (1980)     adult   \n",
            "3   4             The Secret Sin (1915)     drama   \n",
            "4   5            The Unrecovered (2007)     drama   \n",
            "\n",
            "                                         DESCRIPTION  \\\n",
            "0  Listening in to a conversation between his doc...   \n",
            "1  A brother and sister with a past incestuous re...   \n",
            "2  As the bus empties the students for their fiel...   \n",
            "3  To help their unemployed father make ends meet...   \n",
            "4  The film's title refers not only to the un-rec...   \n",
            "\n",
            "                                   clean_description  \n",
            "0  listen convers doctor parent 10 year old oscar...  \n",
            "1  brother sister past incestu relationship curre...  \n",
            "2  bu empti student field trip museum natur histo...  \n",
            "3  help unemploy father make end meet edith twin ...  \n",
            "4  film titl refer un recov bodi ground zero also...  \n"
          ]
        }
      ],
      "source": [
        "import re\n",
        "from nltk.corpus import stopwords\n",
        "from nltk.tokenize import word_tokenize\n",
        "from nltk.stem import PorterStemmer\n",
        "import re\n",
        "from nltk.corpus import stopwords\n",
        "from nltk.tokenize import word_tokenize\n",
        "from nltk.stem import PorterStemmer\n",
        "\n",
        "import nltk\n",
        "nltk.download('punkt') # Trained on unlabel data\n",
        "nltk.download('stopwords')\n",
        "\n",
        "def preprocess_text(text):\n",
        "    text = re.sub(r'\\W', ' ', text)# Replaces all non-word characters in the text with a space.\n",
        "    text = re.sub(r'\\s+', ' ', text)# Replaces all sequences of one or more whitespace characters with a single space\n",
        "    text = text.lower()\n",
        "    tokens = word_tokenize(text)\n",
        "    tokens = [word for word in tokens if word not in stopwords.words('english')]# Creates a list of tokens excluding stopwords\n",
        "    ps = PorterStemmer()\n",
        "    tokens = [ps.stem(word) for word in tokens]#Reducing words to their base form\n",
        "    return ' '.join(tokens)#Return preprocess data\n",
        "\n",
        "train_data['clean_description'] = train_data['DESCRIPTION'].apply(preprocess_text)\n",
        "test_data['clean_description'] = test_data['DESCRIPTION'].apply(preprocess_text)\n",
        "\n",
        "\n",
        "print(train_data.head())\n",
        "\n"
      ]
    },
    {
      "cell_type": "markdown",
      "metadata": {
        "id": "s4V_wnrtkCUg"
      },
      "source": [
        "**Feature** **Extraction**"
      ]
    },
    {
      "cell_type": "code",
      "execution_count": null,
      "metadata": {
        "colab": {
          "base_uri": "https://localhost:8080/"
        },
        "id": "LK3ZmmZ0woa0",
        "outputId": "de93e681-7198-4832-e102-7cb59b3d5641"
      },
      "outputs": [
        {
          "output_type": "stream",
          "name": "stdout",
          "text": [
            "(4762, 5000) (3260, 5000)\n"
          ]
        }
      ],
      "source": [
        "from sklearn.feature_extraction.text import TfidfVectorizer\n",
        "\n",
        "tfidf = TfidfVectorizer(max_features=5000)\n",
        "X_train = tfidf.fit_transform(train_data['clean_description']).toarray()# converts the sparse matrix to a dense NumPy array.\n",
        "y_train = train_data['GENRE']\n",
        "\n",
        "X_test = tfidf.transform(test_data['clean_description']).toarray()\n",
        "\n",
        "print(X_train.shape, X_test.shape)\n"
      ]
    },
    {
      "cell_type": "markdown",
      "metadata": {
        "id": "R1nBaw_fkJz9"
      },
      "source": [
        "**Model** **Training**"
      ]
    },
    {
      "cell_type": "code",
      "execution_count": null,
      "metadata": {
        "colab": {
          "base_uri": "https://localhost:8080/"
        },
        "id": "C8wI7FqJwwqE",
        "outputId": "8afa0e20-e633-4fd9-ae3b-cf97edbac2b3"
      },
      "outputs": [
        {
          "output_type": "execute_result",
          "data": {
            "text/plain": [
              "['tfidf_vectorizer.pkl']"
            ]
          },
          "metadata": {},
          "execution_count": 4
        }
      ],
      "source": [
        "from sklearn.linear_model import LogisticRegression\n",
        "\n",
        "model = LogisticRegression(max_iter=1000)\n",
        "model.fit(X_train, y_train)\n",
        "\n",
        "# Save the model for future use\n",
        "import joblib\n",
        "joblib.dump(model, 'movie_genre_model.pkl')\n",
        "joblib.dump(tfidf, 'tfidf_vectorizer.pkl')\n"
      ]
    },
    {
      "cell_type": "code",
      "execution_count": null,
      "metadata": {
        "colab": {
          "base_uri": "https://localhost:8080/"
        },
        "id": "psMUlk5LpGhm",
        "outputId": "81b1dd13-7459-42cd-e43e-ad4e219cbe84"
      },
      "outputs": [
        {
          "output_type": "execute_result",
          "data": {
            "text/plain": [
              "['movie_genre_svm_model.pkl']"
            ]
          },
          "metadata": {},
          "execution_count": 5
        }
      ],
      "source": [
        "from sklearn.svm import SVC\n",
        "\n",
        "# Initialize and train the SVM model\n",
        "svm_model = SVC(kernel='linear', probability=True)\n",
        "svm_model.fit(X_train, y_train)\n",
        "\n",
        "# Save the SVM model\n",
        "joblib.dump(svm_model, 'movie_genre_svm_model.pkl')\n"
      ]
    },
    {
      "cell_type": "code",
      "execution_count": null,
      "metadata": {
        "colab": {
          "base_uri": "https://localhost:8080/"
        },
        "id": "dKtRDgY2qwA7",
        "outputId": "57d56718-713a-41ed-8110-ce8b6bcee0e9"
      },
      "outputs": [
        {
          "output_type": "execute_result",
          "data": {
            "text/plain": [
              "['movie_genre_nb_model.pkl']"
            ]
          },
          "metadata": {},
          "execution_count": 6
        }
      ],
      "source": [
        "from sklearn.naive_bayes import MultinomialNB\n",
        "\n",
        "# Initialize and train the Naive Bayes model\n",
        "nb_model = MultinomialNB()\n",
        "nb_model.fit(X_train, y_train)\n",
        "\n",
        "# Save the Naive Bayes model\n",
        "joblib.dump(nb_model, 'movie_genre_nb_model.pkl')\n"
      ]
    },
    {
      "cell_type": "markdown",
      "metadata": {
        "id": "NUGOSyOMkUdk"
      },
      "source": [
        "**Model Evaluation**"
      ]
    },
    {
      "cell_type": "code",
      "execution_count": null,
      "metadata": {
        "colab": {
          "base_uri": "https://localhost:8080/"
        },
        "id": "4UtthgYujNhy",
        "outputId": "30ffc9a6-d640-4283-9ab0-c084a12b9457"
      },
      "outputs": [
        {
          "output_type": "stream",
          "name": "stdout",
          "text": [
            "test_data size: 3260\n",
            "test_data_solution size: 9623\n"
          ]
        }
      ],
      "source": [
        "# Check the sizes of test_data and test_data_solution\n",
        "print(f'test_data size: {len(test_data)}')\n",
        "print(f'test_data_solution size: {len(test_data_solution)}')\n"
      ]
    },
    {
      "cell_type": "markdown",
      "metadata": {
        "id": "tL6JoQR8kfLE"
      },
      "source": [
        "**Align the Datasets**"
      ]
    },
    {
      "cell_type": "code",
      "execution_count": null,
      "metadata": {
        "colab": {
          "base_uri": "https://localhost:8080/"
        },
        "id": "NxLm3DF2jS0D",
        "outputId": "de592bea-d3a9-434d-bb1d-7bb6d8705468"
      },
      "outputs": [
        {
          "output_type": "stream",
          "name": "stdout",
          "text": [
            "Aligned X_test size: 3260\n",
            "Aligned y_test size: 3260\n"
          ]
        }
      ],
      "source": [
        "# Merge test data and test data solution on ID to ensure alignment\n",
        "merged_test_data = pd.merge(test_data, test_data_solution[['ID', 'GENRE']], on='ID')\n",
        "\n",
        "# Extract the aligned test data and labels\n",
        "X_test_aligned = tfidf.transform(merged_test_data['clean_description']).toarray()\n",
        "y_test_aligned = merged_test_data['GENRE']\n",
        "\n",
        "# Verify the sizes after alignment\n",
        "print(f'Aligned X_test size: {len(X_test_aligned)}')\n",
        "print(f'Aligned y_test size: {len(y_test_aligned)}')\n"
      ]
    },
    {
      "cell_type": "markdown",
      "metadata": {
        "id": "j6_O9XXdkpW0"
      },
      "source": [
        "**Model Prediction**"
      ]
    },
    {
      "cell_type": "code",
      "execution_count": null,
      "metadata": {
        "colab": {
          "base_uri": "https://localhost:8080/"
        },
        "id": "QzWFMhVlq2Gj",
        "outputId": "a7c0943a-b4d7-4aac-c0f8-15be5c387893"
      },
      "outputs": [
        {
          "output_type": "stream",
          "name": "stdout",
          "text": [
            "Logistic Regression\n"
          ]
        },
        {
          "output_type": "stream",
          "name": "stderr",
          "text": [
            "/usr/local/lib/python3.10/dist-packages/sklearn/metrics/_classification.py:1344: UndefinedMetricWarning: Precision is ill-defined and being set to 0.0 in labels with no predicted samples. Use `zero_division` parameter to control this behavior.\n",
            "  _warn_prf(average, modifier, msg_start, len(result))\n"
          ]
        },
        {
          "output_type": "stream",
          "name": "stdout",
          "text": [
            "Accuracy: 0.49662576687116566\n",
            "Precision: 0.44580968888016137\n",
            "Recall: 0.49662576687116566\n",
            "F1 Score: 0.4109525038481308\n",
            "SVM\n"
          ]
        },
        {
          "output_type": "stream",
          "name": "stderr",
          "text": [
            "/usr/local/lib/python3.10/dist-packages/sklearn/metrics/_classification.py:1344: UndefinedMetricWarning: Precision is ill-defined and being set to 0.0 in labels with no predicted samples. Use `zero_division` parameter to control this behavior.\n",
            "  _warn_prf(average, modifier, msg_start, len(result))\n",
            "/usr/local/lib/python3.10/dist-packages/sklearn/metrics/_classification.py:1344: UndefinedMetricWarning: Precision is ill-defined and being set to 0.0 in labels with no predicted samples. Use `zero_division` parameter to control this behavior.\n",
            "  _warn_prf(average, modifier, msg_start, len(result))\n"
          ]
        },
        {
          "output_type": "stream",
          "name": "stdout",
          "text": [
            "Accuracy: 0.5174846625766871\n",
            "Precision: 0.49678647569012213\n",
            "Recall: 0.5174846625766871\n",
            "F1 Score: 0.4614694027079877\n",
            "Naive Bayes\n",
            "Accuracy: 0.44355828220858895\n",
            "Precision: 0.406917609414082\n",
            "Recall: 0.44355828220858895\n",
            "F1 Score: 0.31672143031083205\n"
          ]
        }
      ],
      "source": [
        "from sklearn.metrics import accuracy_score, precision_score, recall_score, f1_score\n",
        "\n",
        "def evaluate_model(model, X_test, y_test):\n",
        "    y_pred = model.predict(X_test)\n",
        "    accuracy = accuracy_score(y_test, y_pred)\n",
        "    precision = precision_score(y_test, y_pred, average='weighted')\n",
        "    recall = recall_score(y_test, y_pred, average='weighted')\n",
        "    f1 = f1_score(y_test, y_pred, average='weighted')\n",
        "    print(f'Accuracy: {accuracy}')\n",
        "    print(f'Precision: {precision}')\n",
        "    print(f'Recall: {recall}')\n",
        "    print(f'F1 Score: {f1}')\n",
        "\n",
        "# Evaluate Logistic Regression\n",
        "print('Logistic Regression')\n",
        "evaluate_model(model, X_test_aligned, y_test_aligned)\n",
        "\n",
        "# Evaluate SVM\n",
        "print('SVM')\n",
        "evaluate_model(svm_model, X_test_aligned, y_test_aligned)\n",
        "\n",
        "# Evaluate Naive Bayes\n",
        "print('Naive Bayes')\n",
        "evaluate_model(nb_model, X_test_aligned, y_test_aligned)\n"
      ]
    },
    {
      "cell_type": "markdown",
      "source": [
        "SVM appears to be the best choice among the three models, as it has the highest accuracy, precision, recall, and F1 score. This suggests that SVM provides the best balance between correctly identifying the relevant genres (recall) and avoiding incorrect classifications (precision)."
      ],
      "metadata": {
        "id": "QC4WdISaNDf7"
      }
    },
    {
      "cell_type": "code",
      "execution_count": null,
      "metadata": {
        "id": "z55tOTygiGyI"
      },
      "outputs": [],
      "source": [
        "def predict_genre(plot_summary, model, vectorizer):\n",
        "    clean_plot = preprocess_text(plot_summary)\n",
        "    features = vectorizer.transform([clean_plot]).toarray()\n",
        "    genre = model.predict(features)\n",
        "    return genre[0]"
      ]
    },
    {
      "cell_type": "markdown",
      "metadata": {
        "id": "sxmTVkoakw3G"
      },
      "source": [
        "**Example**"
      ]
    },
    {
      "cell_type": "code",
      "execution_count": null,
      "metadata": {
        "colab": {
          "base_uri": "https://localhost:8080/"
        },
        "id": "zE6be56DiUpl",
        "outputId": "0a9f12d2-a6f3-41d5-b301-33546c47c5c6"
      },
      "outputs": [
        {
          "output_type": "stream",
          "name": "stdout",
          "text": [
            "Predicted Genre: drama\n"
          ]
        }
      ],
      "source": [
        "new_plot = \"A young boy discovers he has magical powers and attends a school for wizards.\"\n",
        "predicted_genre = predict_genre(new_plot, svm_model, tfidf)\n",
        "print(f'Predicted Genre: {predicted_genre}')\n"
      ]
    },
    {
      "cell_type": "code",
      "source": [],
      "metadata": {
        "id": "0ajCsJF3Nfsp"
      },
      "execution_count": null,
      "outputs": []
    }
  ],
  "metadata": {
    "colab": {
      "provenance": []
    },
    "kernelspec": {
      "display_name": "Python 3",
      "name": "python3"
    },
    "language_info": {
      "name": "python"
    }
  },
  "nbformat": 4,
  "nbformat_minor": 0
}